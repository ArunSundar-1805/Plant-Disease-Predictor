{
 "cells": [
  {
   "cell_type": "markdown",
   "id": "c6084cbb-87e2-464d-b56b-e0a816b47816",
   "metadata": {},
   "source": [
    "## Importing Libraries"
   ]
  },
  {
   "cell_type": "code",
   "execution_count": null,
   "id": "3fd3e9a5-738f-4258-961d-b1f64b8d0828",
   "metadata": {},
   "outputs": [],
   "source": [
    "import numpy as np\n",
    "import tensorflow as tf\n",
    "import matplotlib.pyplot as plt"
   ]
  },
  {
   "cell_type": "markdown",
   "id": "4a0cac78-9960-4213-811b-df9087035397",
   "metadata": {},
   "source": [
    "## Loading Model"
   ]
  },
  {
   "cell_type": "code",
   "execution_count": null,
   "id": "082a5925-95d1-4102-8f58-7e27d5306e93",
   "metadata": {},
   "outputs": [],
   "source": [
    "model=tf.keras.models.load_model('trained.h5')"
   ]
  },
  {
   "cell_type": "code",
   "execution_count": null,
   "id": "4c481e04-7720-4baa-b805-bfa7edb0df2c",
   "metadata": {},
   "outputs": [],
   "source": [
    "model.summary()"
   ]
  },
  {
   "cell_type": "markdown",
   "id": "29fb08e2-d315-49e4-a894-792158e8bb78",
   "metadata": {},
   "source": [
    "## Visualizing Test Image"
   ]
  },
  {
   "cell_type": "code",
   "execution_count": null,
   "id": "61a59935-edc1-40b8-8030-d4832f08a12b",
   "metadata": {},
   "outputs": [],
   "source": [
    "import cv2 \n",
    "image_path=\"Plant_Disease_Dataset/test/AppleCedarRust1.JPG\"\n",
    "#Reading Image\n",
    "img=cv2.imread(image_path)\n",
    "img=cv2.cvtColor(img,cv2.COLOR_BGR2RGB)\n",
    "\n",
    "#displaying Image\n",
    "plt.imshow(img)\n",
    "plt.title(\"Test Image\")\n",
    "plt.xticks([])\n",
    "plt.yticks([])\n",
    "plt.show()"
   ]
  },
  {
   "cell_type": "markdown",
   "id": "10a06924-6351-48ce-87ce-11b4e0a11b48",
   "metadata": {},
   "source": [
    "## Testing Model"
   ]
  },
  {
   "cell_type": "code",
   "execution_count": null,
   "id": "343c51e7-f1c9-4527-948e-724d647f7cf4",
   "metadata": {},
   "outputs": [],
   "source": [
    "image=tf.keras.preprocessing.image.load_img(image_path,target_size=(128,128))\n",
    "input_arr=tf.keras.preprocessing.image.img_to_array(image)\n",
    "input_arr=np.array([input_arr]) #convert single image to batch as our model is trained by using 32 batch\n",
    "input_arr,input_arr.shape"
   ]
  },
  {
   "cell_type": "code",
   "execution_count": null,
   "id": "9464f030-0806-4cf5-83e1-e48f3a299dfd",
   "metadata": {},
   "outputs": [],
   "source": [
    "prediction=model.predict(input_arr)\n",
    "prediction,prediction.shape"
   ]
  },
  {
   "cell_type": "code",
   "execution_count": null,
   "id": "f88b0f13-3ce8-4769-a8aa-ef4060f0134f",
   "metadata": {},
   "outputs": [],
   "source": [
    "result_index=np.argmax(prediction)\n",
    "result_index"
   ]
  },
  {
   "cell_type": "code",
   "execution_count": null,
   "id": "cb24dce7-5fff-4e7b-add0-2fe56f9016cb",
   "metadata": {},
   "outputs": [],
   "source": [
    "class_name=['Apple___Apple_scab',\n",
    " 'Apple___Black_rot',\n",
    " 'Apple___Cedar_apple_rust',\n",
    " 'Apple___healthy',\n",
    " 'Blueberry___healthy',\n",
    " 'Cherry_(including_sour)___Powdery_mildew',\n",
    " 'Cherry_(including_sour)___healthy',\n",
    " 'Corn_(maize)___Cercospora_leaf_spot Gray_leaf_spot',\n",
    " 'Corn_(maize)___Common_rust_',\n",
    " 'Corn_(maize)___Northern_Leaf_Blight',\n",
    " 'Corn_(maize)___healthy',\n",
    " 'Grape___Black_rot',\n",
    " 'Grape___Esca_(Black_Measles)',\n",
    " 'Grape___Leaf_blight_(Isariopsis_Leaf_Spot)',\n",
    " 'Grape___healthy',\n",
    " 'Orange___Haunglongbing_(Citrus_greening)',\n",
    " 'Peach___Bacterial_spot',\n",
    " 'Peach___healthy',\n",
    " 'Pepper,_bell___Bacterial_spot',\n",
    " 'Pepper,_bell___healthy',\n",
    " 'Potato___Early_blight',\n",
    " 'Potato___Late_blight',\n",
    " 'Potato___healthy',\n",
    " 'Raspberry___healthy',\n",
    " 'Soybean___healthy',\n",
    " 'Squash___Powdery_mildew',\n",
    " 'Strawberry___Leaf_scorch',\n",
    " 'Strawberry___healthy',\n",
    " 'Tomato___Bacterial_spot',\n",
    " 'Tomato___Early_blight',\n",
    " 'Tomato___Late_blight',\n",
    " 'Tomato___Leaf_Mold',\n",
    " 'Tomato___Septoria_leaf_spot',\n",
    " 'Tomato___Spider_mites Two-spotted_spider_mite',\n",
    " 'Tomato___Target_Spot',\n",
    " 'Tomato___Tomato_Yellow_Leaf_Curl_Virus',\n",
    " 'Tomato___Tomato_mosaic_virus',\n",
    " 'Tomato___healthy']"
   ]
  },
  {
   "cell_type": "markdown",
   "id": "326fe32f-1f55-46d0-b769-95f24471ec33",
   "metadata": {},
   "source": [
    "## Displaying Disease"
   ]
  },
  {
   "cell_type": "code",
   "execution_count": null,
   "id": "9bb42bba-09b7-49bd-99ea-341d7bb6bd01",
   "metadata": {},
   "outputs": [],
   "source": [
    "model_prediction=class_name[result_index]\n",
    "plt.imshow(img)\n",
    "plt.title(f\"Disease Name:{model_prediction}\")\n",
    "plt.xticks([])\n",
    "plt.yticks([])\n",
    "plt.show()"
   ]
  }
 ],
 "metadata": {
  "kernelspec": {
   "display_name": ".venv (3.11.9)",
   "language": "python",
   "name": "python3"
  },
  "language_info": {
   "codemirror_mode": {
    "name": "ipython",
    "version": 3
   },
   "file_extension": ".py",
   "mimetype": "text/x-python",
   "name": "python",
   "nbconvert_exporter": "python",
   "pygments_lexer": "ipython3",
   "version": "3.11.9"
  }
 },
 "nbformat": 4,
 "nbformat_minor": 5
}
